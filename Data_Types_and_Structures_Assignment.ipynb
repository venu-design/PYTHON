{
  "nbformat": 4,
  "nbformat_minor": 0,
  "metadata": {
    "colab": {
      "provenance": []
    },
    "kernelspec": {
      "name": "python3",
      "display_name": "Python 3"
    },
    "language_info": {
      "name": "python"
    }
  },
  "cells": [
    {
      "cell_type": "markdown",
      "source": [
        "## **Theoretical Questions**"
      ],
      "metadata": {
        "id": "xwtwXRzRgg-M"
      }
    },
    {
      "cell_type": "markdown",
      "source": [
        "### **1. What are data structures, and why are they important?**\n",
        "\n",
        "**Answer**:\n",
        "\n",
        "Data structures are ways to store and organize data so that we can use it easily. They are important because they help us manage and process data efficiently, especially when we deal with large amounts of it.\n",
        "\n",
        "### **2. Explain the difference between mutable and immutable data types with examples.**\n",
        "\n",
        "**Answer**:\n",
        "* **Mutable**  means changeable. You can change the data after creating it.\n",
        "  Example: list, dict\n",
        "\n",
        "  # my_list = [1, 2, 3]\n",
        "  # my_list.append(4)  \n",
        "  # This changes the list\n",
        "\n",
        "* **Immutable** means you cannot change the data once it is created.\n",
        "Example: str, tuple\n",
        "\n",
        "  # my_str = \"hello\"\n",
        "  # You can't do my_str[0] = 'H' - this will give an error\n",
        "\n",
        "### **3. What are the main differences between lists and tuples in Python?**\n",
        "\n",
        "**Answer**:\n",
        "* Lists can be changed (mutable), but tuples cannot (immutable).\n",
        "\n",
        "* Lists use more memory; tuples are faster and use less memory.\n",
        "\n",
        "* Lists have more features like append, remove, etc.\n",
        "\n",
        "### **4. Describe how dictionaries store data.**\n",
        "\n",
        "**Answer**:\n",
        "\n",
        "Dictionaries store data in **key-value pairs**. Each key is unique, and you use it to find its value.\n",
        "Example:\n",
        "\n",
        "#person = {\"name\": \"John\", \"age\": 25}\n",
        "\n",
        "### **5. Why might you use a set instead of a list in Python?**\n",
        "\n",
        "**Answer**:\n",
        "\n",
        " Use a set when:\n",
        "\n",
        "* You do not want duplicate values.\n",
        "\n",
        "* You want to check if something exists quickly.\n",
        "\n",
        "### **6. What is a string in Python, and how is it different from a list?**\n",
        "\n",
        "**Answer**:\n",
        "\n",
        "A string is a series of characters (like words or sentences).\n",
        "A list can have anything (numbers, strings, etc.) and can be changed, but strings cannot be changed after creation.\n",
        "\n",
        "### **7. How do tuples ensure data integrity in Python?**\n",
        "\n",
        "**Answer**:\n",
        "\n",
        "Tuples can’t be changed after you create them. So they keep the data safe from accidental changes.\n",
        "\n",
        "### **8. What is a hash table, and how does it relate to dictionaries in Python?**\n",
        "\n",
        "**Answer**:\n",
        "\n",
        "A hash table is a way of storing data using keys. Python dictionaries are built using hash tables, so you can find things fast by using a key.\n",
        "\n",
        "### **9. Can lists contain different data types in Python?**\n",
        "\n",
        "**Answerr**:\n",
        "\n",
        "Yes! A list can have numbers, strings, even other lists.\n",
        "Example:\n",
        "#[1, \"hello\", 3.14]\n",
        "\n",
        "### **10. Explain why strings are immutable in Python.**\n",
        "\n",
        "**Answer**:\n",
        "\n",
        "Strings are made unchangeable (immutable) for safety and performance. This also allows them to be used as keys in dictionaries.\n",
        "\n",
        "### **11. What advantages do dictionaries offer over lists for certain tasks?**\n",
        "\n",
        "**Answer**:\n",
        "\n",
        "Dictionaries let you look up data by name (key), not just position. This is faster and easier when dealing with labeled data.\n",
        "\n",
        "### **12. Describe a scenario where using a tuple would be preferable over a list.**\n",
        "\n",
        "**Answer**:\n",
        "\n",
        "Use a tuple when the data should not change.\n",
        "Example: storing coordinates (x, y) or days of the week.\n",
        "\n",
        "### **13. How do sets handle duplicate values in Python?**\n",
        "\n",
        "**Answer**:\n",
        "\n",
        "Sets automatically remove duplicates.\n",
        "Example: Set ([1, 2, 2, 3]) becomes {1, 2, 3}\n",
        "\n",
        "### **14. How does the “in” keyword work differently for lists and dictionaries?**\n",
        "\n",
        "**Answer**:\n",
        "\n",
        "* In lists: checks if a value exists.\n",
        "\n",
        "* In dictionaries: checks if a key exists.\n",
        "\n",
        "### **15. Can you modify the elements of a tuple? Explain why or why not.**\n",
        "\n",
        "**Answer**:\n",
        "\n",
        "No, tuples cannot be changed. They are **immutable**.\n",
        "\n",
        "### **16. What is a nested dictionary, and give an example of its use case.**\n",
        "\n",
        "**Answer**:\n",
        "\n",
        "A dictionary inside another dictionary.\n",
        "Example:\n"
      ],
      "metadata": {
        "id": "VQx5asgLgqnQ"
      }
    },
    {
      "cell_type": "code",
      "source": [
        "student = {\n",
        "  \"name\": \"Abhi\",\n",
        "  \"grades\": {\"math\": 90, \"science\": 95}\n",
        "}"
      ],
      "metadata": {
        "id": "T3GCc7W9ohfb"
      },
      "execution_count": null,
      "outputs": []
    },
    {
      "cell_type": "markdown",
      "source": [
        "### **17. Describe the time complexity of accessing elements in a dictionary.**\n",
        "\n",
        "**Answer**:\n",
        "\n",
        "It is O(1), which means very fast, because of the way hash tables work.\n",
        "\n",
        "### **18. In what situations are lists preferred over dictionaries?**\n",
        "\n",
        "**Answer**:\n",
        "\n",
        "Use lists when:\n",
        "\n",
        "* You only care about the order of items.\n",
        "\n",
        "* You don’t need key-value pairs.\n",
        "\n",
        "### **19. Why are dictionaries considered unordered, and how does that affect data retrieval?**\n",
        "\n",
        "**Answer**:\n",
        "\n",
        "Before Python 3.7, dictionaries didn’t keep the order of items. Now they do, but we still access items by key, not position.\n",
        "\n",
        "### **20. Explain the difference between a list and a dictionary in terms of data retrieval.**\n",
        "\n",
        "**Answer**:\n",
        "* Lists use indexes (numbers) to get items.\n",
        "\n",
        "* Dictionaries use keys (names or labels).\n",
        "\n"
      ],
      "metadata": {
        "id": "csegRrZSoobF"
      }
    },
    {
      "cell_type": "markdown",
      "source": [
        "## **Practical Questions**"
      ],
      "metadata": {
        "id": "hKeoslY6p0o5"
      }
    },
    {
      "cell_type": "markdown",
      "source": [
        "### **1. Write a code to create a string with your name and print it.**"
      ],
      "metadata": {
        "id": "p7NHB4M4qBQ3"
      }
    },
    {
      "cell_type": "code",
      "execution_count": null,
      "metadata": {
        "colab": {
          "base_uri": "https://localhost:8080/"
        },
        "id": "ptiWbgdFgSGm",
        "outputId": "55b331a4-61cc-4096-caf3-1ff78de88340"
      },
      "outputs": [
        {
          "output_type": "stream",
          "name": "stdout",
          "text": [
            "Abhijeet\n"
          ]
        }
      ],
      "source": [
        "name = \"Abhijeet\"\n",
        "print(name)"
      ]
    },
    {
      "cell_type": "markdown",
      "source": [
        "### **2. Write a code to find the length of the string \"Hello World\".**"
      ],
      "metadata": {
        "id": "6iEC6yuzq5tz"
      }
    },
    {
      "cell_type": "code",
      "source": [
        "text = \"Hello World\"\n",
        "print(len(text))"
      ],
      "metadata": {
        "colab": {
          "base_uri": "https://localhost:8080/"
        },
        "id": "zh_RZdzlv6Uz",
        "outputId": "d37b2baf-25ec-4b27-b6d0-e1cd42d3e470"
      },
      "execution_count": null,
      "outputs": [
        {
          "output_type": "stream",
          "name": "stdout",
          "text": [
            "11\n"
          ]
        }
      ]
    },
    {
      "cell_type": "markdown",
      "source": [
        "### **3. Write a code to slice the first 3 characters from the string \"Python Programming\".**"
      ],
      "metadata": {
        "id": "wp1NStAuwTW_"
      }
    },
    {
      "cell_type": "code",
      "source": [
        "text = \"Python Programming\"\n",
        "print(text[:3])\n"
      ],
      "metadata": {
        "colab": {
          "base_uri": "https://localhost:8080/"
        },
        "id": "6J6E4vKlwXi5",
        "outputId": "a7b9ef2e-42a7-4264-d575-f2ac8f81387d"
      },
      "execution_count": null,
      "outputs": [
        {
          "output_type": "stream",
          "name": "stdout",
          "text": [
            "Pyt\n"
          ]
        }
      ]
    },
    {
      "cell_type": "markdown",
      "source": [
        "### **4. Write a code to convert the string \"hello\" to uppercase.**"
      ],
      "metadata": {
        "id": "wMMIK1R4wiI2"
      }
    },
    {
      "cell_type": "code",
      "source": [
        "text = \"hello\"\n",
        "print(text.upper())\n"
      ],
      "metadata": {
        "colab": {
          "base_uri": "https://localhost:8080/"
        },
        "id": "cdoXrzZ9wlqy",
        "outputId": "b86a9afe-8c9c-4fd0-d153-84ffc1e48227"
      },
      "execution_count": null,
      "outputs": [
        {
          "output_type": "stream",
          "name": "stdout",
          "text": [
            "HELLO\n"
          ]
        }
      ]
    },
    {
      "cell_type": "markdown",
      "source": [
        "### **5. Write a code to replace the word \"apple\" with \"orange\" in the string \"I like apple\"**"
      ],
      "metadata": {
        "id": "H8Xvg095wpRb"
      }
    },
    {
      "cell_type": "code",
      "source": [
        "sentence = \"I like apple\"\n",
        "print(sentence.replace(\"apple\", \"orange\"))\n"
      ],
      "metadata": {
        "colab": {
          "base_uri": "https://localhost:8080/"
        },
        "id": "bGxS4qFPwxym",
        "outputId": "0a570180-3afa-422f-cf81-b3a7849a1eb0"
      },
      "execution_count": null,
      "outputs": [
        {
          "output_type": "stream",
          "name": "stdout",
          "text": [
            "I like orange\n"
          ]
        }
      ]
    },
    {
      "cell_type": "markdown",
      "source": [
        "### **6. Write a code to create a list with numbers 1 to 5 and print it.**"
      ],
      "metadata": {
        "id": "yQ_KnQcJw1ok"
      }
    },
    {
      "cell_type": "code",
      "source": [
        "numbers = [1, 2, 3, 4, 5]\n",
        "print(numbers)\n"
      ],
      "metadata": {
        "colab": {
          "base_uri": "https://localhost:8080/"
        },
        "id": "R9bwsyaow8x6",
        "outputId": "6a45fa26-e6d7-4d26-ffbe-1ce33b8ff546"
      },
      "execution_count": null,
      "outputs": [
        {
          "output_type": "stream",
          "name": "stdout",
          "text": [
            "[1, 2, 3, 4, 5]\n"
          ]
        }
      ]
    },
    {
      "cell_type": "markdown",
      "source": [
        "### **7. Write a code to append the number 10 to the list [1, 2, 3, 4].**"
      ],
      "metadata": {
        "id": "OJMSoBUFxB4H"
      }
    },
    {
      "cell_type": "code",
      "source": [
        "numbers = [1, 2, 3, 4]\n",
        "numbers.append(10)\n",
        "print(numbers)\n"
      ],
      "metadata": {
        "colab": {
          "base_uri": "https://localhost:8080/"
        },
        "id": "5saIFkmHxKuS",
        "outputId": "711397e0-9e11-4d8f-9742-43fb5f18f513"
      },
      "execution_count": null,
      "outputs": [
        {
          "output_type": "stream",
          "name": "stdout",
          "text": [
            "[1, 2, 3, 4, 10]\n"
          ]
        }
      ]
    },
    {
      "cell_type": "markdown",
      "source": [
        "### **8. Write a code to remove the number 3 from the list [1, 2, 3, 4, 5].**"
      ],
      "metadata": {
        "id": "PavfEE3CxQXu"
      }
    },
    {
      "cell_type": "code",
      "source": [
        "numbers = [1, 2, 3, 4, 5]\n",
        "numbers.remove(3)\n",
        "print(numbers)\n"
      ],
      "metadata": {
        "colab": {
          "base_uri": "https://localhost:8080/"
        },
        "id": "0yHleDYQxYEA",
        "outputId": "9b1013c0-8852-4a44-c58b-60e3567d4026"
      },
      "execution_count": null,
      "outputs": [
        {
          "output_type": "stream",
          "name": "stdout",
          "text": [
            "[1, 2, 4, 5]\n"
          ]
        }
      ]
    },
    {
      "cell_type": "markdown",
      "source": [
        "### **9. Write a code to access the second element in the list ['a', 'b', 'c', 'd'].**"
      ],
      "metadata": {
        "id": "HeCS2h58xdv7"
      }
    },
    {
      "cell_type": "code",
      "source": [
        "letters = ['a', 'b', 'c', 'd']\n",
        "print(letters[1])\n"
      ],
      "metadata": {
        "colab": {
          "base_uri": "https://localhost:8080/"
        },
        "id": "xPkGvcyXxnl7",
        "outputId": "2a5892c5-2eea-4a72-bbb5-9ae1d69a8cb2"
      },
      "execution_count": null,
      "outputs": [
        {
          "output_type": "stream",
          "name": "stdout",
          "text": [
            "b\n"
          ]
        }
      ]
    },
    {
      "cell_type": "markdown",
      "source": [
        "### **10. Write a code to reverse the list [10, 20, 30, 40, 50].**"
      ],
      "metadata": {
        "id": "xIEzHl0JxrWD"
      }
    },
    {
      "cell_type": "code",
      "source": [
        "numbers = [10, 20, 30, 40, 50]\n",
        "print(numbers[::-1])\n"
      ],
      "metadata": {
        "colab": {
          "base_uri": "https://localhost:8080/"
        },
        "id": "EmV4UFUpxwX_",
        "outputId": "2448537d-967b-4604-98a7-d1278d13fca0"
      },
      "execution_count": null,
      "outputs": [
        {
          "output_type": "stream",
          "name": "stdout",
          "text": [
            "[50, 40, 30, 20, 10]\n"
          ]
        }
      ]
    },
    {
      "cell_type": "markdown",
      "source": [
        "### **11. Write a code to create a tuple with the elements 100, 200, 300 and print it.**\n",
        "\n",
        "\n",
        "\n",
        "\n",
        "\n",
        "\n",
        "\n"
      ],
      "metadata": {
        "id": "TRsvShIyx3Kx"
      }
    },
    {
      "cell_type": "code",
      "source": [
        "my_tuple = (100, 200, 300)\n",
        "print(my_tuple)\n"
      ],
      "metadata": {
        "colab": {
          "base_uri": "https://localhost:8080/"
        },
        "id": "Nv39zUlwyH9U",
        "outputId": "0cc8bb54-c954-4af4-9d87-1fee5a52aaa2"
      },
      "execution_count": null,
      "outputs": [
        {
          "output_type": "stream",
          "name": "stdout",
          "text": [
            "(100, 200, 300)\n"
          ]
        }
      ]
    },
    {
      "cell_type": "markdown",
      "source": [
        "### **12. Write a code to access the second-to-last element of the tuple ('red', 'green', 'blue', 'yellow').**"
      ],
      "metadata": {
        "id": "fvHsmVrLyS9h"
      }
    },
    {
      "cell_type": "code",
      "source": [
        "colors = ('red', 'green', 'blue', 'yellow')\n",
        "print(colors[-2])\n"
      ],
      "metadata": {
        "colab": {
          "base_uri": "https://localhost:8080/"
        },
        "id": "iVeKfG7XyW-6",
        "outputId": "81d5c543-b125-4c4b-e7ac-dfba5033a549"
      },
      "execution_count": null,
      "outputs": [
        {
          "output_type": "stream",
          "name": "stdout",
          "text": [
            "blue\n"
          ]
        }
      ]
    },
    {
      "cell_type": "markdown",
      "source": [
        "### **13. Write a code to find the minimum number in the tuple (10, 20, 5, 15).**"
      ],
      "metadata": {
        "id": "4UAa2EM8yeGh"
      }
    },
    {
      "cell_type": "code",
      "source": [
        "numbers = (10, 20, 5, 15)\n",
        "print(min(numbers))\n"
      ],
      "metadata": {
        "colab": {
          "base_uri": "https://localhost:8080/"
        },
        "id": "D2jFs4i1ymD9",
        "outputId": "fef7b765-4202-4d50-bb91-96b1ba2f6f18"
      },
      "execution_count": null,
      "outputs": [
        {
          "output_type": "stream",
          "name": "stdout",
          "text": [
            "5\n"
          ]
        }
      ]
    },
    {
      "cell_type": "markdown",
      "source": [
        "### **14. Write a code to find the index of the element \"cat\" in the tuple ('dog', 'cat', 'rabbit').**"
      ],
      "metadata": {
        "id": "S8v6-5U1ytns"
      }
    },
    {
      "cell_type": "code",
      "source": [
        "animals = ('dog', 'cat', 'rabbit')\n",
        "print(animals.index(\"cat\"))\n"
      ],
      "metadata": {
        "colab": {
          "base_uri": "https://localhost:8080/"
        },
        "id": "sdTewt6_yxe3",
        "outputId": "de7b095c-99d8-446b-c800-e431b84dd634"
      },
      "execution_count": null,
      "outputs": [
        {
          "output_type": "stream",
          "name": "stdout",
          "text": [
            "1\n"
          ]
        }
      ]
    },
    {
      "cell_type": "markdown",
      "source": [
        "### **15. Write a code to create a tuple containing three different fruits and check if \"kiwi\" is in it.**"
      ],
      "metadata": {
        "id": "Ouj-uke-y2qP"
      }
    },
    {
      "cell_type": "code",
      "source": [
        "fruits = (\"apple\", \"banana\", \"mango\")\n",
        "print(\"kiwi\" in fruits)\n"
      ],
      "metadata": {
        "id": "1oAFBR1NzBaf",
        "colab": {
          "base_uri": "https://localhost:8080/"
        },
        "outputId": "c2ba6e2e-2ca1-4d45-bd77-9ea0954f2f03"
      },
      "execution_count": null,
      "outputs": [
        {
          "output_type": "stream",
          "name": "stdout",
          "text": [
            "False\n"
          ]
        }
      ]
    },
    {
      "cell_type": "markdown",
      "source": [
        "### **16. Write a code to create a set with the elements 'a', 'b', 'c' and print it.**"
      ],
      "metadata": {
        "id": "jp14U_nHNyjW"
      }
    },
    {
      "cell_type": "code",
      "source": [
        "my_set = {'a', 'b', 'c'}\n",
        "print(my_set)\n"
      ],
      "metadata": {
        "colab": {
          "base_uri": "https://localhost:8080/"
        },
        "id": "YF8TrcjAODCk",
        "outputId": "463b2d60-e1b7-4bbf-9e45-399eea4f4f8c"
      },
      "execution_count": null,
      "outputs": [
        {
          "output_type": "stream",
          "name": "stdout",
          "text": [
            "{'b', 'a', 'c'}\n"
          ]
        }
      ]
    },
    {
      "cell_type": "markdown",
      "source": [
        "### **17. Write a code to clear all elements from the set {1, 2, 3, 4, 5}.**"
      ],
      "metadata": {
        "id": "9EHOgbahOJa3"
      }
    },
    {
      "cell_type": "code",
      "source": [
        "my_set = {1, 2, 3, 4, 5}\n",
        "my_set.clear()\n",
        "print(my_set)\n"
      ],
      "metadata": {
        "colab": {
          "base_uri": "https://localhost:8080/"
        },
        "id": "2idJzerhOQB0",
        "outputId": "c63627a8-79a0-47d9-d2cc-7895683c0e24"
      },
      "execution_count": null,
      "outputs": [
        {
          "output_type": "stream",
          "name": "stdout",
          "text": [
            "set()\n"
          ]
        }
      ]
    },
    {
      "cell_type": "markdown",
      "source": [
        "### **18. Write a code to remove the element 4 from the set {1, 2, 3, 4}.**\n",
        "\n"
      ],
      "metadata": {
        "id": "HqrEePA1OcTa"
      }
    },
    {
      "cell_type": "code",
      "source": [
        "my_set = {1, 2, 3, 4}\n",
        "my_set.remove(4)\n",
        "print(my_set)\n"
      ],
      "metadata": {
        "colab": {
          "base_uri": "https://localhost:8080/"
        },
        "id": "jFvnMCACOnK1",
        "outputId": "32afd646-6408-4f7c-bce0-09c6c697afff"
      },
      "execution_count": null,
      "outputs": [
        {
          "output_type": "stream",
          "name": "stdout",
          "text": [
            "{1, 2, 3}\n"
          ]
        }
      ]
    },
    {
      "cell_type": "markdown",
      "source": [
        "### **19. Write a code to find the union of two sets {1, 2, 3} and {3, 4, 5}.**"
      ],
      "metadata": {
        "id": "SwcSCX6rOvQE"
      }
    },
    {
      "cell_type": "code",
      "source": [
        "set1 = {1, 2, 3}\n",
        "set2 = {3, 4, 5}\n",
        "print(set1.union(set2))\n"
      ],
      "metadata": {
        "colab": {
          "base_uri": "https://localhost:8080/"
        },
        "id": "tp1I-c2ZO3rl",
        "outputId": "35ab6c0f-cd0f-4fec-ea0d-bd55b5ee6cae"
      },
      "execution_count": null,
      "outputs": [
        {
          "output_type": "stream",
          "name": "stdout",
          "text": [
            "{1, 2, 3, 4, 5}\n"
          ]
        }
      ]
    },
    {
      "cell_type": "markdown",
      "source": [
        "### **20. Write a code to find the intersection of two sets {1, 2, 3} and {2, 3, 4}.**"
      ],
      "metadata": {
        "id": "guKqJJVwO8IZ"
      }
    },
    {
      "cell_type": "code",
      "source": [
        "set1 = {1, 2, 3}\n",
        "set2 = {2, 3, 4}\n",
        "print(set1.intersection(set2))\n"
      ],
      "metadata": {
        "colab": {
          "base_uri": "https://localhost:8080/"
        },
        "id": "Jc5GSBZNPHKW",
        "outputId": "d3285ae1-2da5-498c-f884-7976a9bc0145"
      },
      "execution_count": null,
      "outputs": [
        {
          "output_type": "stream",
          "name": "stdout",
          "text": [
            "{2, 3}\n"
          ]
        }
      ]
    },
    {
      "cell_type": "markdown",
      "source": [
        "### **21. Write a code to create a dictionary with the keys \"name\", \"age\", and \"city\", and print it.**"
      ],
      "metadata": {
        "id": "8GHyXSEMPN9P"
      }
    },
    {
      "cell_type": "code",
      "source": [
        "person = {\"name\": \"Ayush\", \"age\": 22, \"city\": \"Ranchi\"}\n",
        "print(person)\n"
      ],
      "metadata": {
        "colab": {
          "base_uri": "https://localhost:8080/"
        },
        "id": "JdkMXyQnPbzv",
        "outputId": "1843fc00-bf73-40e4-ad54-d3611d48aef5"
      },
      "execution_count": null,
      "outputs": [
        {
          "output_type": "stream",
          "name": "stdout",
          "text": [
            "{'name': 'Ayush', 'age': 22, 'city': 'Ranchi'}\n"
          ]
        }
      ]
    },
    {
      "cell_type": "markdown",
      "source": [
        "### **22. Write a code to add a new key-value pair \"country\": \"USA\" to the dictionary {'name': 'John', 'age': 25}.**"
      ],
      "metadata": {
        "id": "4yZWmFVYTZh-"
      }
    },
    {
      "cell_type": "code",
      "source": [
        "person = {'name': 'John', 'age': 25}\n",
        "person[\"country\"] = \"USA\"\n",
        "print(person)\n"
      ],
      "metadata": {
        "colab": {
          "base_uri": "https://localhost:8080/"
        },
        "id": "5R5rqc0YTtaO",
        "outputId": "6d4497fe-79bb-4023-c36c-08842505b29b"
      },
      "execution_count": null,
      "outputs": [
        {
          "output_type": "stream",
          "name": "stdout",
          "text": [
            "{'name': 'John', 'age': 25, 'country': 'USA'}\n"
          ]
        }
      ]
    },
    {
      "cell_type": "markdown",
      "source": [
        "### **23. Write a code to access the value associated with the key \"name\" in the dictionary {'name': 'Alice', 'age': 30}.**"
      ],
      "metadata": {
        "id": "wM1gUr42VQ6o"
      }
    },
    {
      "cell_type": "code",
      "source": [
        "person = {'name': 'Alice', 'age': 30}\n",
        "print(person[\"name\"])\n"
      ],
      "metadata": {
        "colab": {
          "base_uri": "https://localhost:8080/"
        },
        "id": "c5Uh98JPVTKd",
        "outputId": "086889cd-2f69-4488-a36b-be5023871f1b"
      },
      "execution_count": null,
      "outputs": [
        {
          "output_type": "stream",
          "name": "stdout",
          "text": [
            "Alice\n"
          ]
        }
      ]
    },
    {
      "cell_type": "markdown",
      "source": [
        "### **24. Write a code to remove the key \"age\" from the dictionary {'name': 'Bob', 'age': 22, 'city': 'New York'}.**"
      ],
      "metadata": {
        "id": "XvQ2D67cVWkU"
      }
    },
    {
      "cell_type": "code",
      "source": [
        "person = {'name': 'Bob', 'age': 22, 'city': 'New York'}\n",
        "del person[\"age\"]\n",
        "print(person)\n"
      ],
      "metadata": {
        "colab": {
          "base_uri": "https://localhost:8080/"
        },
        "id": "v30eDdAWVkID",
        "outputId": "a8f771ac-6fbe-450c-a082-df7ed2d1db67"
      },
      "execution_count": null,
      "outputs": [
        {
          "output_type": "stream",
          "name": "stdout",
          "text": [
            "{'name': 'Bob', 'city': 'New York'}\n"
          ]
        }
      ]
    },
    {
      "cell_type": "markdown",
      "source": [
        "### **25. Write a code to check if the key \"city\" exists in the dictionary {'name': 'Alice', 'city': 'Paris'}.**"
      ],
      "metadata": {
        "id": "0NgWEQgzVoAL"
      }
    },
    {
      "cell_type": "code",
      "source": [
        "person = {'name': 'Alice', 'city': 'Paris'}\n",
        "print(\"city\" in person)\n"
      ],
      "metadata": {
        "colab": {
          "base_uri": "https://localhost:8080/"
        },
        "id": "InM29GOQV018",
        "outputId": "892b08dc-019d-46d2-9df4-39f6988d4c65"
      },
      "execution_count": null,
      "outputs": [
        {
          "output_type": "stream",
          "name": "stdout",
          "text": [
            "True\n"
          ]
        }
      ]
    },
    {
      "cell_type": "markdown",
      "source": [
        "### **26. Write a code to create a list, a tuple, and a dictionary, and print them all.**"
      ],
      "metadata": {
        "id": "jMUDqa5iV6AV"
      }
    },
    {
      "cell_type": "code",
      "source": [
        "my_list = [1, 2, 3]\n",
        "my_tuple = (4, 5, 6)\n",
        "my_dict = {\"a\": 1, \"b\": 2}\n",
        "print(my_list, my_tuple, my_dict)\n"
      ],
      "metadata": {
        "colab": {
          "base_uri": "https://localhost:8080/"
        },
        "id": "mvyiK_x4WEo4",
        "outputId": "b8a5a149-f4c7-46c4-cc0a-f90f64692bfd"
      },
      "execution_count": null,
      "outputs": [
        {
          "output_type": "stream",
          "name": "stdout",
          "text": [
            "[1, 2, 3] (4, 5, 6) {'a': 1, 'b': 2}\n"
          ]
        }
      ]
    },
    {
      "cell_type": "markdown",
      "source": [
        "### **27. Write a code to create a list of 5 random numbers between 1 and 100, sort it in ascending order, and print the result.**"
      ],
      "metadata": {
        "id": "DVoK_JPaWJ0Y"
      }
    },
    {
      "cell_type": "code",
      "source": [
        "import random\n",
        "numbers = random.sample(range(1, 101), 5)\n",
        "numbers.sort()\n",
        "print(numbers)\n"
      ],
      "metadata": {
        "colab": {
          "base_uri": "https://localhost:8080/"
        },
        "id": "HDu-W1yuWS12",
        "outputId": "3055444f-25f0-4fdf-f091-2ff34a1b4375"
      },
      "execution_count": null,
      "outputs": [
        {
          "output_type": "stream",
          "name": "stdout",
          "text": [
            "[45, 46, 71, 80, 81]\n"
          ]
        }
      ]
    },
    {
      "cell_type": "markdown",
      "source": [
        "### **28. Write a code to create a list with strings and print the element at the third index.**"
      ],
      "metadata": {
        "id": "xoqhF6fnWdvl"
      }
    },
    {
      "cell_type": "code",
      "source": [
        "words = [\"apple\", \"banana\", \"orange\", \"date\", \"fig\"]\n",
        "print(words[3])\n"
      ],
      "metadata": {
        "colab": {
          "base_uri": "https://localhost:8080/"
        },
        "id": "7o1ULHD-Wk4R",
        "outputId": "6a23e3d9-cd45-4876-c8a7-b812e7062fc5"
      },
      "execution_count": null,
      "outputs": [
        {
          "output_type": "stream",
          "name": "stdout",
          "text": [
            "date\n"
          ]
        }
      ]
    },
    {
      "cell_type": "markdown",
      "source": [
        "### **29. Write a code to combine two dictionaries into one and print the result.**"
      ],
      "metadata": {
        "id": "tYJS-9ONWzRR"
      }
    },
    {
      "cell_type": "code",
      "source": [
        "dict1 = {\"a\": 1}\n",
        "dict2 = {\"b\": 2}\n",
        "combined = {**dict1, **dict2}\n",
        "print(combined)\n"
      ],
      "metadata": {
        "colab": {
          "base_uri": "https://localhost:8080/"
        },
        "id": "amksplByW7a_",
        "outputId": "139a3ef6-6aca-4dac-fbe3-796a009fbf2b"
      },
      "execution_count": null,
      "outputs": [
        {
          "output_type": "stream",
          "name": "stdout",
          "text": [
            "{'a': 1, 'b': 2}\n"
          ]
        }
      ]
    },
    {
      "cell_type": "markdown",
      "source": [
        "### **30. Write a code to convert a list of strings into a set.**"
      ],
      "metadata": {
        "id": "9x0pKmQ9XEl9"
      }
    },
    {
      "cell_type": "code",
      "source": [
        "fruits = [\"apple\", \"banana\", \"apple\", \"orange\"]\n",
        "unique_fruits = set(fruits)\n",
        "print(unique_fruits)\n"
      ],
      "metadata": {
        "colab": {
          "base_uri": "https://localhost:8080/"
        },
        "id": "Hq6mTJQNXOHQ",
        "outputId": "4b7dfbdc-eee7-4ce6-9a74-88ad55980d9b"
      },
      "execution_count": null,
      "outputs": [
        {
          "output_type": "stream",
          "name": "stdout",
          "text": [
            "{'orange', 'banana', 'apple'}\n"
          ]
        }
      ]
    }
  ]
}